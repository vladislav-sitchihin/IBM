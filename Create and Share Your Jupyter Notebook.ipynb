{
 "cells": [
  {
   "cell_type": "markdown",
   "metadata": {},
   "source": [
    "# My Jupyter Notebook on IBM Watson Studio"
   ]
  },
  {
   "cell_type": "markdown",
   "metadata": {},
   "source": [
    "**Vladislav Sitchihin**\n",
    "\n",
    "analytical chemist"
   ]
  },
  {
   "cell_type": "markdown",
   "metadata": {},
   "source": [
    "*I am interested in data science because it's hip*"
   ]
  },
  {
   "cell_type": "markdown",
   "metadata": {},
   "source": [
    "### I copied a code that uses a method from a module \"random\" to generate 4 numbers from 1 to 10."
   ]
  },
  {
   "cell_type": "code",
   "execution_count": 12,
   "metadata": {},
   "outputs": [
    {
     "name": "stdout",
     "output_type": "stream",
     "text": [
      "4 numbers between 1 and 10: \n",
      "6\n",
      "3\n",
      "1\n",
      "10\n"
     ]
    }
   ],
   "source": [
    "import random\n",
    "print(\"4 numbers between 1 and 10: \")\n",
    "for i in range(1, 5):\n",
    "     a = random.randrange(1, 11)\n",
    "     print(a)"
   ]
  },
  {
   "cell_type": "markdown",
   "metadata": {},
   "source": [
    " - A hyperlink to the google homepage:\n",
    "\n",
    "<a href=\"https://www.google.com\">Google</a>\n",
    "\n",
    " - A bulleted list\n",
    " \n",
    " - A table \n",
    " \n",
    "| Column 1 | Column 2 |\n",
    "| --- | --- |\n",
    "| Cell 1 | Cell 2 |"
   ]
  },
  {
   "cell_type": "markdown",
   "metadata": {},
   "source": [
    "# Thank you!"
   ]
  }
 ],
 "metadata": {
  "kernelspec": {
   "display_name": "Python 3",
   "language": "python",
   "name": "python3"
  },
  "language_info": {
   "codemirror_mode": {
    "name": "ipython",
    "version": 3
   },
   "file_extension": ".py",
   "mimetype": "text/x-python",
   "name": "python",
   "nbconvert_exporter": "python",
   "pygments_lexer": "ipython3",
   "version": "3.8.3"
  }
 },
 "nbformat": 4,
 "nbformat_minor": 4
}
